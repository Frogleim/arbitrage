{
 "cells": [
  {
   "cell_type": "code",
   "id": "initial_id",
   "metadata": {
    "collapsed": true,
    "ExecuteTime": {
     "end_time": "2025-03-24T10:07:23.499765Z",
     "start_time": "2025-03-24T10:07:23.489494Z"
    }
   },
   "source": [
    "import re\n",
    "import json\n",
    "\n",
    "def convert_abbreviation(value):\n",
    "    \"\"\" Converts abbreviated numbers like '2.05K' into normal numbers (e.g., 2050) \"\"\"\n",
    "    match = re.match(r'([\\d.]+)([KMB]?)', value)\n",
    "    if not match:\n",
    "        return value\n",
    "    num, suffix = match.groups()\n",
    "    num = float(num)\n",
    "\n",
    "    if suffix == \"K\":\n",
    "        num *= 1_000\n",
    "    elif suffix == \"M\":\n",
    "        num *= 1_000_000\n",
    "    elif suffix == \"B\":\n",
    "        num *= 1_000_000_000\n",
    "\n",
    "    return int(num) if num.is_integer() else num\n",
    "\n",
    "\n",
    "def contains_numbered_symbol(text):\n",
    "    return \"№\" in text\n",
    "\n",
    "\n",
    "def remove_price_ranges(data_list):\n",
    "    \"\"\" Removes number ranges like 0.0733-0.0735 \"\"\"\n",
    "    return [item for item in data_list if not re.match(r'^\\d+(\\.\\d+)?-\\d+(\\.\\d+)?$', item)]\n",
    "\n",
    "\n",
    "def extract_futures_exchanges(text):\n",
    "    \"\"\" Extracts exchange names from the '✅Фьючерсы' line \"\"\"\n",
    "    futures_match = re.search(r'✅Фьючерсы: (.+)', text)\n",
    "    if futures_match:\n",
    "        exchanges = re.findall(r'\\[([^\\]]+)\\]', futures_match.group(1))\n",
    "        return exchanges\n",
    "    return []\n",
    "\n",
    "\n",
    "def clean_text(text):\n",
    "\n",
    "    is_contain = contains_numbered_symbol(text)\n",
    "    print(\"Text contains '№' symbol:\", is_contain)\n",
    "\n",
    "    futures_exchanges = extract_futures_exchanges(text)\n",
    "    print(\"Futures Exchanges:\", futures_exchanges)\n",
    "\n",
    "    text = re.sub(r'[^\\w\\s.,:|$()/\\[\\]-]', '', text, flags=re.UNICODE)\n",
    "\n",
    "    lines = text.strip().split(\"\\n\")\n",
    "    if len(lines) > 2:\n",
    "        text = \"\\n\".join(lines[1:-1])\n",
    "\n",
    "    text = re.sub(r'https?://\\S+', '', text)\n",
    "    text = re.sub(r'№\\d+', '', text)\n",
    "    text = re.sub(r'\\[([^\\]]+)\\]', r'\\1', text)\n",
    "    text = re.sub(r'\\b[А-Яа-яЁё]+\\b', '', text)\n",
    "    text = re.sub(r'[|,|/]', '', text)\n",
    "    text = re.sub(r'[()]', '', text)\n",
    "    text = re.sub(r'\\s+', ' ', text).strip()\n",
    "    text = re.sub(r'[:$]', '', text)\n",
    "\n",
    "    l_data = text.split()\n",
    "    l_data = remove_price_ranges(l_data)\n",
    "\n",
    "\n",
    "    if is_contain:\n",
    "        quantity_from = convert_abbreviation(l_data[5])\n",
    "        quantity_to = convert_abbreviation(l_data[10])\n",
    "        d = {\n",
    "            \"exchange_from\": l_data[2],\n",
    "            \"price_from\": l_data[3],\n",
    "            \"quantity_from\": quantity_from,\n",
    "            'orders_count_from': l_data[6],\n",
    "            \"exchange_to\": l_data[7],\n",
    "            \"price_to\": l_data[8],\n",
    "            \"quantity_to\": quantity_to,\n",
    "            \"orders_count_to\": l_data[11],\n",
    "            \"token\": l_data[0].replace('USDT', ''),\n",
    "            \"futures_exchanges\": futures_exchanges\n",
    "        }\n",
    "    else:\n",
    "        quantity_from = convert_abbreviation(l_data[4])\n",
    "        quantity_to = convert_abbreviation(l_data[9])\n",
    "        d = {\n",
    "            \"exchange_from\": l_data[1],\n",
    "            \"price_from\": l_data[2],\n",
    "            \"quantity_from\": quantity_from,\n",
    "            'orders_count_from': l_data[5],\n",
    "            \"exchange_to\": l_data[6],\n",
    "            \"price_to\": l_data[7],\n",
    "            \"quantity_to\": quantity_to,\n",
    "            \"orders_count_to\": l_data[11],\n",
    "            \"token\": l_data[0].replace('USDT', ''),\n",
    "            \"futures_exchanges\": futures_exchanges\n",
    "        }\n",
    "    print(d)\n",
    "\n",
    "    with open(\"settings.json\", \"r\") as f:\n",
    "        data = json.load(f)\n",
    "    if d['exchange_from'] not in data['exchanges_from']:\n",
    "        print(\"❌ Error: Exchange mismatch (Expected MEXC -> BingX)\")\n",
    "        return False, None\n",
    "    first_match = next((exchange for exchange in d['futures_exchanges'] if exchange in d['exchange_to']), None)\n",
    "    if first_match is None:\n",
    "        return False, None\n",
    "    d['exchange_to'] = first_match\n",
    "    return True, d"
   ],
   "outputs": [],
   "execution_count": 31
  },
  {
   "metadata": {
    "ExecuteTime": {
     "end_time": "2025-03-24T10:07:23.990457Z",
     "start_time": "2025-03-24T10:07:23.988433Z"
    }
   },
   "cell_type": "code",
   "source": [
    "with open(\"signal_example.txt\", \"r\") as file:\n",
    "    content = file.read()\n",
    "    print(content)  # Prints the entire content of the file"
   ],
   "id": "45d6fc685baa7b84",
   "outputs": [
    {
     "name": "stdout",
     "output_type": "stream",
     "text": [
      "✅BURGER: BingX→KuCoin 3411.7 +66.1$ (1.93%)\n",
      "\n",
      "`BURGER`/USDT: №[1431](https://coinmarketcap.com/currencies/burger-cities/)\n",
      "\n",
      "📗| [BingX](https://bingx.com/ru-ru/spot/BURGERUSDT/) | [вывод](https://bingx.com/ru-ru/assets/withdraw/) |\n",
      "Цена: `0.0734786` [0.0733-`0.0735`]\n",
      "Объем: **3411.7 $**, 46.43K, 3 ордера\n",
      "\n",
      "📕| [KuCoin](https://www.kucoin.com/ru/trade/BURGER-USDT) | [ввод](https://www.kucoin.com/ru/assets/coin/BURGER) |\n",
      "Цена: `0.0750892` [0.0784-`0.0737`]\n",
      "Объем: **3486.4 $**, 46.43K, 46 ордеров\n",
      "\n",
      "Комиссия: спот **8.6$** / перевод **0.24$** (3.2 BURGER)\n",
      "Сеть: BEP20\n",
      "🟢 1-3 минуты (15 подт. ~ 1 мин)\n",
      "🕑 Время жизни: 07:31\n",
      "💰 Чистый спред: **66.1$** (**1.93%**)\n",
      "✅Маржинальный заём\n",
      "👍[Контракты](https://bscscan.com/token/0xae9269f27437f0fcbc232d39ec814844a51d6b8f) совпадают\n",
      "\n",
      "✅Фьючерсы: [MEXC](https://futures.mexc.com/exchange/BURGER_USDT) | [Bitget](https://www.bitget.com/futures/usdt/BURGERUSDT_UMCBL) | [XT](https://www.xt.com/ru/futures/trade/burger_usdt)\n"
     ]
    }
   ],
   "execution_count": 32
  },
  {
   "metadata": {
    "ExecuteTime": {
     "end_time": "2025-03-24T10:07:24.626471Z",
     "start_time": "2025-03-24T10:07:24.624052Z"
    }
   },
   "cell_type": "code",
   "source": [
    "is_valid, data = cleaned_text = clean_text(content)\n",
    "print(is_valid, data)"
   ],
   "id": "ba4464e351b45bf0",
   "outputs": [
    {
     "name": "stdout",
     "output_type": "stream",
     "text": [
      "Text contains '№' symbol: True\n",
      "Futures Exchanges: ['MEXC', 'Bitget', 'XT']\n",
      "{'exchange_from': 'BingX', 'price_from': '0.0734786', 'quantity_from': 46430, 'orders_count_from': '3', 'exchange_to': 'KuCoin', 'price_to': '0.0750892', 'quantity_to': 46430, 'orders_count_to': '46', 'token': 'BURGER', 'futures_exchanges': ['MEXC', 'Bitget', 'XT']}\n",
      "False None\n"
     ]
    }
   ],
   "execution_count": 33
  },
  {
   "metadata": {
    "ExecuteTime": {
     "end_time": "2025-03-24T05:25:29.816663Z",
     "start_time": "2025-03-24T05:25:29.812322Z"
    }
   },
   "cell_type": "code",
   "source": "exchanges_to_check = ['MEXC', 'Bitget', 'XT']",
   "id": "62e3629eee61a9c5",
   "outputs": [],
   "execution_count": 20
  },
  {
   "metadata": {
    "ExecuteTime": {
     "end_time": "2025-03-24T05:25:45.520585Z",
     "start_time": "2025-03-24T05:25:45.518074Z"
    }
   },
   "cell_type": "code",
   "source": "current_exchanges = [\"BingX\", \"Binance\", \"KuCoin\", \"ByBit\", \"BitMart\"]",
   "id": "b49ab3314d8cf777",
   "outputs": [],
   "execution_count": 21
  },
  {
   "metadata": {
    "ExecuteTime": {
     "end_time": "2025-03-24T05:29:49.912339Z",
     "start_time": "2025-03-24T05:29:49.909653Z"
    }
   },
   "cell_type": "code",
   "source": [
    "exchanges_to_check = ['MEXC', 'Bitget', 'XT', 'KuCoin']\n",
    "current_exchanges = [\"BingX\", \"Binance\", \"KuCoin\", \"ByBit\", \"BitMart\"]\n",
    "\n",
    "first_match = next((exchange for exchange in exchanges_to_check if exchange in current_exchanges), None)\n",
    "\n",
    "if first_match:\n",
    "    print(\"First matching exchange:\", first_match)\n",
    "else:\n",
    "    print(\"No matching exchanges found.\")"
   ],
   "id": "488599e14d3b0f27",
   "outputs": [
    {
     "name": "stdout",
     "output_type": "stream",
     "text": [
      "First matching exchange: KuCoin\n"
     ]
    }
   ],
   "execution_count": 24
  },
  {
   "metadata": {},
   "cell_type": "code",
   "outputs": [],
   "execution_count": null,
   "source": "",
   "id": "295ecab116e61fbe"
  }
 ],
 "metadata": {
  "kernelspec": {
   "display_name": "Python 3",
   "language": "python",
   "name": "python3"
  },
  "language_info": {
   "codemirror_mode": {
    "name": "ipython",
    "version": 2
   },
   "file_extension": ".py",
   "mimetype": "text/x-python",
   "name": "python",
   "nbconvert_exporter": "python",
   "pygments_lexer": "ipython2",
   "version": "2.7.6"
  }
 },
 "nbformat": 4,
 "nbformat_minor": 5
}
