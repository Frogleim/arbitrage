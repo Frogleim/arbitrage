{
 "cells": [
  {
   "cell_type": "code",
   "id": "initial_id",
   "metadata": {
    "collapsed": true,
    "ExecuteTime": {
     "end_time": "2025-02-25T19:24:03.275285Z",
     "start_time": "2025-02-25T19:24:03.273819Z"
    }
   },
   "source": [
    ""
   ],
   "outputs": [],
   "execution_count": null
  },
  {
   "metadata": {
    "ExecuteTime": {
     "end_time": "2025-02-25T20:22:44.271583Z",
     "start_time": "2025-02-25T20:22:44.265536Z"
    }
   },
   "cell_type": "code",
   "source": [
    "import re\n",
    "\n",
    "def remove_special_symbols_and_emojis(text):\n",
    "    # Remove emojis and special symbols using regex\n",
    "    clean_text = re.sub(r'[^\\w\\s.,:|$()/\\[\\]-]', '', text, flags=re.UNICODE)\n",
    "    return clean_text\n",
    "\n",
    "text = \"\"\"✅PIPPIN: LBank→Gate 1851.6 +5.6$ (0.3%)\n",
    "\n",
    "`PIPPIN`/USDT:\n",
    "\n",
    "📗| [LBank](https://www.lbank.com/trade/pippin_usdt/) | [вывод](https://www.lbank.com/wallet/account/main/withdrawal/crypto/pippin/) |\n",
    "Цена: `0.0275`\n",
    "Объем: **1851.6 $**, 67.33K, 1 ордер\n",
    "\n",
    "📕| [Gate.io](https://www.gate.io/ru/trade/PIPPIN_USDT) | [ввод](https://www.gate.io/ru/myaccount/deposit/PIPPIN) |\n",
    "Цена: `0.0276833` [0.0277-`0.02768`]\n",
    "Объем: **1862.8 $**, 67.29K, 3 ордера\n",
    "\n",
    "Комиссия: спот **5.58$** / перевод **1.26$** (45.85 PIPPIN)\n",
    "Сеть: SOL\n",
    "2 минуты - 2 часа (100 подт. ~ 1 мин)\n",
    "🕑 Время жизни: 00:02\n",
    "💰 Чистый спред: **5.6$** (**0.3%**)\n",
    "✅Маржинальный заём\n",
    "👍[Контракты](https://solscan.io/token/Dfh5DzRgSvvCFDoYc2ciTkMrbDfRKybA4SoFbPmApump) совпадают\n",
    "\n",
    "✅Фьючерсы: [Binance](https://www.binance.com/futures/PIPPINUSDT) | [Gate.io](https://www.gate.io/ru/futures/USDT/PIPPIN_USDT) | [MEXC](https://futures.mexc.com/exchange/PIPPIN_USDT) | [ByBit](https://www.bybit.com/trade/usdt/PIPPINUSDT) | [Bitget](https://www.bitget.com/futures/usdt/PIPPINUSDT_UMCBL) | [Huobi](https://www.htx.com/ru-ru/futures/linear_swap/exchange#contract_code=PIPPIN-USDT) | [BingX](https://swap.bingx.com/ru-ru/PIPPIN-USDT) | [OKX](https://www.okx.com/ru/trade-swap/PIPPIN-USDT-SWAP) | [BitMart](https://derivatives.bitmart.com/ru-RU?symbol=PIPPINUSDT) | [LBank](https://www.lbank.com/futures/PIPPINUSDT) | [XT](https://www.xt.com/ru/futures/trade/pippin_usdt)\"\"\"\n",
    "\n",
    "clean_text = remove_special_symbols_and_emojis(text)\n",
    "print(clean_text)"
   ],
   "id": "8d56d71f3e589285",
   "outputs": [
    {
     "name": "stdout",
     "output_type": "stream",
     "text": [
      "PIPPIN: LBankGate 1851.6 5.6$ (0.3)\n",
      "\n",
      "PIPPIN/USDT:\n",
      "\n",
      "| [LBank](https://www.lbank.com/trade/pippin_usdt/) | [вывод](https://www.lbank.com/wallet/account/main/withdrawal/crypto/pippin/) |\n",
      "Цена: 0.0275\n",
      "Объем: 1851.6 $, 67.33K, 1 ордер\n",
      "\n",
      "| [Gate.io](https://www.gate.io/ru/trade/PIPPIN_USDT) | [ввод](https://www.gate.io/ru/myaccount/deposit/PIPPIN) |\n",
      "Цена: 0.0276833 [0.0277-0.02768]\n",
      "Объем: 1862.8 $, 67.29K, 3 ордера\n",
      "\n",
      "Комиссия: спот 5.58$ / перевод 1.26$ (45.85 PIPPIN)\n",
      "Сеть: SOL\n",
      "2 минуты - 2 часа (100 подт.  1 мин)\n",
      " Время жизни: 00:02\n",
      " Чистый спред: 5.6$ (0.3)\n",
      "Маржинальный заём\n",
      "[Контракты](https://solscan.io/token/Dfh5DzRgSvvCFDoYc2ciTkMrbDfRKybA4SoFbPmApump) совпадают\n",
      "\n",
      "Фьючерсы: [Binance](https://www.binance.com/futures/PIPPINUSDT) | [Gate.io](https://www.gate.io/ru/futures/USDT/PIPPIN_USDT) | [MEXC](https://futures.mexc.com/exchange/PIPPIN_USDT) | [ByBit](https://www.bybit.com/trade/usdt/PIPPINUSDT) | [Bitget](https://www.bitget.com/futures/usdt/PIPPINUSDT_UMCBL) | [Huobi](https://www.htx.com/ru-ru/futures/linear_swap/exchangecontract_codePIPPIN-USDT) | [BingX](https://swap.bingx.com/ru-ru/PIPPIN-USDT) | [OKX](https://www.okx.com/ru/trade-swap/PIPPIN-USDT-SWAP) | [BitMart](https://derivatives.bitmart.com/ru-RUsymbolPIPPINUSDT) | [LBank](https://www.lbank.com/futures/PIPPINUSDT) | [XT](https://www.xt.com/ru/futures/trade/pippin_usdt)\n"
     ]
    }
   ],
   "execution_count": 81
  },
  {
   "metadata": {
    "ExecuteTime": {
     "end_time": "2025-02-25T21:29:41.056194Z",
     "start_time": "2025-02-25T21:29:41.047461Z"
    }
   },
   "cell_type": "code",
   "source": [
    "import re\n",
    "\n",
    "def clean_text(text):\n",
    "    lines = text.strip().split(\"\\n\")\n",
    "    if len(lines) > 2:  # Ensure there are at least 3 lines to remove first and last\n",
    "        text = \"\\n\".join(lines[1:-1])\n",
    "    # Remove all URLs\n",
    "    text = re.sub(r'https?://\\S+', '', text)\n",
    "\n",
    "    # Remove square brackets but keep the text inside them\n",
    "    text = re.sub(r'\\[([^\\]]+)\\]', r'\\1', text)\n",
    "    text = re.sub(r'№\\d+', '', text)\n",
    "\n",
    "    # Remove words that contain Cyrillic characters (if needed)\n",
    "    text = re.sub(r'\\b[А-Яа-яЁё]+\\b', '', text)\n",
    "    text = re.sub(r'[|,|/]', '', text)\n",
    "    text = re.sub(r'[()]', '', text)\n",
    "\n",
    "    # Remove extra spaces left from removed content\n",
    "    text = re.sub(r'\\s+', ' ', text).strip()\n",
    "\n",
    "    # Remove specific unwanted characters like ':' and '$'\n",
    "    text = re.sub(r'[:$]', '', text)\n",
    "    l_data = text.split()[:-10]\n",
    "    print(l_data)\n",
    "    d = {\n",
    "    \"exchange_from\": l_data[0],\n",
    "    \"price_from\": l_data[1],\n",
    "    \"volume_from\": l_data[3],\n",
    "    'orders_count_from': l_data[4],\n",
    "    \"exchange_to\": l_data[5],\n",
    "    \"price_to\": l_data[6],\n",
    "    \"volume_to\": l_data[9],\n",
    "    \"orders_count_to\": l_data[10],\n",
    "    \"token\": l_data[-1],\n",
    "\n",
    "    }\n",
    "\n",
    "    return d\n",
    "\n",
    "text = \"\"\"PIPPIN/USDT:\n",
    "\n",
    "| [LBank](https://www.lbank.com/trade/pippin_usdt/) | [вывод](https://www.lbank.com/wallet/account/main/withdrawal/crypto/pippin/) |\n",
    "Цена: 0.0275\n",
    "Объем: 1851.6 $, 67.33K, 1 ордер\n",
    "\n",
    "| [Gate.io](https://www.gate.io/ru/trade/PIPPIN_USDT) | [ввод](https://www.gate.io/ru/myaccount/deposit/PIPPIN) |\n",
    "Цена: 0.0276833 [0.0277-0.02768]\n",
    "Объем: 1862.8 $, 67.29K, 3 ордера\n",
    "\n",
    "Комиссия: спот 5.58$ / перевод 1.26$ (45.85 PIPPIN)\n",
    "Сеть: SOL\n",
    "2 минуты - 2 часа (100 подт.  1 мин)\n",
    " Время жизни: 00:02\n",
    " Чистый спред: 5.6$ (0.3)\n",
    "Маржинальный заём\n",
    "[Контракты](https://solscan.io/token/Dfh5DzRgSvvCFDoYc2ciTkMrbDfRKybA4SoFbPmApump) совпадают\n",
    "\n",
    "Фьючерсы: [Binance](https://www.binance.com/futures/PIPPINUSDT) | [Gate.io](https://www.gate.io/ru/futures/USDT/PIPPIN_USDT) | [MEXC](https://futures.mexc.com/exchange/PIPPIN_USDT) | [ByBit](https://www.bybit.com/trade/usdt/PIPPINUSDT) | [Bitget](https://www.bitget.com/futures/usdt/PIPPINUSDT_UMCBL) | [Huobi](https://www.htx.com/ru-ru/futures/linear_swap/exchangecontract_codePIPPIN-USDT) | [BingX](https://swap.bingx.com/ru-ru/PIPPIN-USDT) | [OKX](https://www.okx.com/ru/trade-swap/PIPPIN-USDT-SWAP) | [BitMart](https://derivatives.bitmart.com/ru-RUsymbolPIPPINUSDT) | [LBank](https://www.lbank.com/futures/PIPPINUSDT) | [XT](https://www.xt.com/ru/futures/trade/pippin_usdt)\"\"\"\n",
    "\n",
    "cleaned_text = clean_text(text)\n",
    "print(cleaned_text)"
   ],
   "id": "99b80bb797fd01a5",
   "outputs": [
    {
     "name": "stdout",
     "output_type": "stream",
     "text": [
      "['LBank', '0.0275', '1851.6', '67.33K', '1', 'Gate.io', '0.0276833', '0.0277-0.02768', '1862.8', '67.29K', '3', '5.58', '1.26', '45.85', 'PIPPIN']\n",
      "{'exchange_from': 'LBank', 'price_from': '0.0275', 'volume_from': '67.33K', 'orders_count_from': '1', 'exchange_to': 'Gate.io', 'price_to': '0.0276833', 'volume_to': '67.29K', 'orders_count_to': '3', 'token': 'PIPPIN'}\n"
     ]
    }
   ],
   "execution_count": 100
  },
  {
   "metadata": {
    "ExecuteTime": {
     "end_time": "2025-02-25T20:23:22.456861Z",
     "start_time": "2025-02-25T20:23:22.452954Z"
    }
   },
   "cell_type": "code",
   "source": [
    "import re\n",
    "\n",
    "def remove_russian_words(text):\n",
    "    # Split the text into lines and remove the first and last line\n",
    "    lines = text.strip().split(\"\\n\")\n",
    "    if len(lines) > 2:  # Ensure there are at least 3 lines to remove first and last\n",
    "        text = \"\\n\".join(lines[1:-1])  # Keep only the middle lines\n",
    "\n",
    "    # Remove words that contain Cyrillic characters\n",
    "    clean_text = re.sub(r'\\b[А-Яа-яЁё]+\\b', '', text)\n",
    "\n",
    "    # Remove extra spaces left from removed words\n",
    "    clean_text = re.sub(r'\\s+', ' ', clean_text).strip()\n",
    "\n",
    "    # Remove specific characters\n",
    "    clean_text = re.sub(r':', '', clean_text)\n",
    "    clean_text = re.sub(r'\\$', '', clean_text)\n",
    "    clean_text = clean_text.split()\n",
    "    filtered_list = [word for word in clean_text if word != '|']\n",
    "    filtered_list = [word for word in filtered_list if not re.match(r'^\\(.+\\)$', word)]\n",
    "\n",
    "\n",
    "\n",
    "    return filtered_list[2:-7]  # Return cleaned text as a string\n",
    "\n",
    "text = \"\"\"PIPPIN/USDT:\n",
    "\n",
    "| [LBank](https://www.lbank.com/trade/pippin_usdt/) | [вывод](https://www.lbank.com/wallet/account/main/withdrawal/crypto/pippin/) |\n",
    "Цена: 0.0275\n",
    "Объем: 1851.6 $, 67.33K, 1 ордер\n",
    "\n",
    "| [Gate.io](https://www.gate.io/ru/trade/PIPPIN_USDT) | [ввод](https://www.gate.io/ru/myaccount/deposit/PIPPIN) |\n",
    "Цена: 0.0276833 [0.0277-0.02768]\n",
    "Объем: 1862.8 $, 67.29K, 3 ордера\n",
    "\n",
    "Комиссия: спот 5.58$ / перевод 1.26$ (45.85 PIPPIN)\n",
    "Сеть: SOL\n",
    "2 минуты - 2 часа (100 подт.  1 мин)\n",
    " Время жизни: 00:02\n",
    " Чистый спред: 5.6$ (0.3)\n",
    "Маржинальный заём\n",
    "[Контракты](https://solscan.io/token/Dfh5DzRgSvvCFDoYc2ciTkMrbDfRKybA4SoFbPmApump) совпадают\n",
    "\n",
    "Фьючерсы: [Binance](https://www.binance.com/futures/PIPPINUSDT) | [Gate.io](https://www.gate.io/ru/futures/USDT/PIPPIN_USDT) | [MEXC](https://futures.mexc.com/exchange/PIPPIN_USDT) | [ByBit](https://www.bybit.com/trade/usdt/PIPPINUSDT) | [Bitget](https://www.bitget.com/futures/usdt/PIPPINUSDT_UMCBL) | [Huobi](https://www.htx.com/ru-ru/futures/linear_swap/exchangecontract_codePIPPIN-USDT) | [BingX](https://swap.bingx.com/ru-ru/PIPPIN-USDT) | [OKX](https://www.okx.com/ru/trade-swap/PIPPIN-USDT-SWAP) | [BitMart](https://derivatives.bitmart.com/ru-RUsymbolPIPPINUSDT) | [LBank](https://www.lbank.com/futures/PIPPINUSDT) | [XT](https://www.xt.com/ru/futures/trade/pippin_usdt)\"\"\"\n",
    "\n",
    "clean_text = remove_russian_words(text)\n",
    "print(clean_text)\n",
    "d = {\n",
    "    \"exchange_from\": clean_text[0],\n",
    "    \"price_from\": clean_text[1],\n",
    "    \"volume_from\": clean_text[5],\n",
    "    'orders_count_from': clean_text[6],\n",
    "    \"exchange_to\": clean_text[7],\n",
    "    \"price_to\": clean_text[8],\n",
    "    \"volume_to\": clean_text[11],\n",
    "    \"orders_count_to\": clean_text[12],\n",
    "    \"token\": clean_text[-1],\n",
    "\n",
    "    }\n",
    "print(d)"
   ],
   "id": "bbf6be8174d5eac1",
   "outputs": [
    {
     "name": "stdout",
     "output_type": "stream",
     "text": [
      "['0.0275', '1851.6', ',', '67.33K,', '1', '[Gate.io](https//www.gate.io/ru/trade/PIPPIN_USDT)', '[](https//www.gate.io/ru/myaccount/deposit/PIPPIN)', '0.0276833', '[0.0277-0.02768]', '1862.8', ',', '67.29K,', '3', '5.58', '/', '1.26', '(45.85', 'PIPPIN)', 'SOL', '2', '-', '2']\n",
      "{'exchange_from': '0.0275', 'price_from': '1851.6', 'volume_from': '[Gate.io](https//www.gate.io/ru/trade/PIPPIN_USDT)', 'orders_count_from': '[](https//www.gate.io/ru/myaccount/deposit/PIPPIN)', 'exchange_to': '0.0276833', 'price_to': '[0.0277-0.02768]', 'volume_to': '67.29K,', 'orders_count_to': '3', 'token': '2'}\n"
     ]
    }
   ],
   "execution_count": 83
  },
  {
   "metadata": {
    "ExecuteTime": {
     "end_time": "2025-02-25T20:06:40.333638Z",
     "start_time": "2025-02-25T20:06:40.328235Z"
    }
   },
   "cell_type": "code",
   "source": [
    "import re\n",
    "\n",
    "import re\n",
    "\n",
    "def remove_colons(text):\n",
    "    # Remove all colons and dollar signs\n",
    "\n",
    "    clean_text = re.sub(r':', '', text)\n",
    "    clean_text = re.sub(r'\\$', '', clean_text)\n",
    "\n",
    "    # Split text into lines\n",
    "    lines = clean_text.splitlines()\n",
    "\n",
    "    # Remove first and last line if there are more than 2 lines\n",
    "    if len(lines) > 2:\n",
    "        lines = lines[1:-1]\n",
    "\n",
    "    # Remove empty lines\n",
    "    cleaned_list = [line for line in lines if line.strip()]\n",
    "\n",
    "    # Remove last 3 items\n",
    "    cleaned_list = cleaned_list[:-3]\n",
    "\n",
    "    # Clean exchange names (keep only exchange names)\n",
    "    cleaned_list = [re.sub(r'\\|\\s*|\\s*\\|', '', line).strip() for line in cleaned_list]\n",
    "\n",
    "    # Remove content inside brackets [ ... ]\n",
    "    cleaned_list = [re.sub(r'\\[.*?\\]', '', line).strip() for line in cleaned_list]\n",
    "\n",
    "    # Split lines that contain comma-separated values\n",
    "    final_list = []\n",
    "    for line in cleaned_list:\n",
    "        if ',' in line:\n",
    "            final_list.extend([part.strip() for part in line.split(',')])\n",
    "        else:\n",
    "            final_list.append(line)\n",
    "    final_list[-1], final_list[-2] = final_list[-2], final_list[-1]\n",
    "    ready_list = final_list[1:]\n",
    "    return ready_list[:-1]\n",
    "\n",
    "text = \"\"\"XRP: MEXC Bitrue 179484.5 22.2$ (0.01%)\n",
    "\n",
    "XRP/USDT: 4\n",
    "\n",
    " | MEXC | |\n",
    ": 2.1881 [2.1875-2.1883]\n",
    ": 179484.5 $, 82.03K, 7\n",
    "\n",
    " | Bitrue | |\n",
    ": 2.191\n",
    ": 179722.3 $, 82.03K, 1\n",
    "\n",
    ": 215.55$ / 0.34$ (0.155 XRP)\n",
    ": XRP\n",
    " 1-3 (10 ~ 1 )\n",
    ": 00:02\n",
    ": 22.2$ (0.01%)\n",
    "\n",
    ": Binance | Gate.io | MEXC | ByBit | KuCoin | Bitget | Huobi | BingX | OKX | BitMart | LBank | CoinEx | XT\"\"\"\n",
    "\n",
    "clean_text = remove_colons(text)\n",
    "print(clean_text)"
   ],
   "id": "4421b585df87ef22",
   "outputs": [
    {
     "name": "stdout",
     "output_type": "stream",
     "text": [
      "['MEXC', '2.1881', '179484.5', '82.03K', '7', 'Bitrue', '2.191', '179722.3', '82.03K', '1', 'XRP']\n"
     ]
    }
   ],
   "execution_count": 59
  },
  {
   "metadata": {
    "ExecuteTime": {
     "end_time": "2025-02-25T19:43:20.014326Z",
     "start_time": "2025-02-25T19:43:19.996347Z"
    }
   },
   "cell_type": "code",
   "source": [
    "list_signal = ['MEXC', '2.1881', '179484.5 , 82.03K, 7', 'Bitrue', '2.191', '179722.3 , 82.03K, 1', '215.55 / 0.34 (0.155 XRP)', 'XRP']\n",
    "exchange_from = list_signal[0]\n",
    "price_from = list_signal[1]\n",
    "volume_from = list_signal[3]\n",
    "orders_count_from = list_signal[4]\n",
    "exchange_to = list_signal[5]\n",
    "price_to = list_signal[6]\n",
    "volume_to = list_signal[8]\n",
    "orders_count_to = list_signal[9]\n",
    "token = list_signal[-1]\n",
    "\n",
    "\n",
    "m = \"\"\"\n",
    "✅XRP: MEXC→Bitrue 179484.5 +22.2$ (0.01%)\n",
    "\n",
    "XRP/USDT: №4\n",
    "\n",
    "📗| MEXC | вывод |\n",
    "Цена: 2.1881 [2.1875-2.1883]\n",
    "Объем: 179484.5 $, 82.03K, 7 ордеров\n",
    "\n",
    "📕| Bitrue | ввод |\n",
    "Цена: 2.191\n",
    "Объем: 179722.3 $, 82.03K, 1 ордер\n",
    "\n",
    "Комиссия: спот 215.55$ / перевод 0.34$ (0.155 XRP)\n",
    "Сеть: XRP\n",
    "🟢 1-3 минут (10 подт. ~ 1 мин)\n",
    "🕑 Время жизни: 00:02\n",
    "💰 Чистый спред: 22.2$ (0.01%)\n",
    "\n",
    "✅Фьючерсы: Binance | Gate.io | MEXC | ByBit | KuCoin | Bitget | Huobi | BingX | OKX | BitMart | LBank | CoinEx | XT\n",
    "\"\"\"\n"
   ],
   "id": "92e2f79df1ea6f8d",
   "outputs": [
    {
     "ename": "IndexError",
     "evalue": "list index out of range",
     "output_type": "error",
     "traceback": [
      "\u001B[0;31m---------------------------------------------------------------------------\u001B[0m",
      "\u001B[0;31mIndexError\u001B[0m                                Traceback (most recent call last)",
      "Cell \u001B[0;32mIn[33], line 8\u001B[0m\n\u001B[1;32m      6\u001B[0m exchange_to \u001B[38;5;241m=\u001B[39m list_signal[\u001B[38;5;241m5\u001B[39m]\n\u001B[1;32m      7\u001B[0m price_to \u001B[38;5;241m=\u001B[39m list_signal[\u001B[38;5;241m6\u001B[39m]\n\u001B[0;32m----> 8\u001B[0m volume_to \u001B[38;5;241m=\u001B[39m \u001B[43mlist_signal\u001B[49m\u001B[43m[\u001B[49m\u001B[38;5;241;43m8\u001B[39;49m\u001B[43m]\u001B[49m\n\u001B[1;32m      9\u001B[0m orders_count_to \u001B[38;5;241m=\u001B[39m list_signal[\u001B[38;5;241m9\u001B[39m]\n\u001B[1;32m     10\u001B[0m token \u001B[38;5;241m=\u001B[39m list_signal[\u001B[38;5;241m-\u001B[39m\u001B[38;5;241m1\u001B[39m]\n",
      "\u001B[0;31mIndexError\u001B[0m: list index out of range"
     ]
    }
   ],
   "execution_count": 33
  },
  {
   "metadata": {
    "ExecuteTime": {
     "end_time": "2025-02-25T19:43:21.525849Z",
     "start_time": "2025-02-25T19:43:21.522536Z"
    }
   },
   "cell_type": "code",
   "source": [
    "import re\n",
    "\n",
    "def clean_list(data):\n",
    "    cleaned = []\n",
    "\n",
    "    for item in data:\n",
    "        # Remove unwanted symbols like ':', '|', '(', ')', '$', ','\n",
    "        item = re.sub(r'[:|$/(),]', '', item).strip()\n",
    "\n",
    "        # Remove bracketed numbers like [2.1875-2.1883]\n",
    "        item = re.sub(r'\\[.*?\\]', '', item).strip()\n",
    "\n",
    "        # Skip empty items\n",
    "        if item:\n",
    "            cleaned.append(item)\n",
    "\n",
    "    # Keep only relevant items (assuming exchanges, numbers, and 'XRP' are important)\n",
    "    filtered_list = [x for x in cleaned if re.search(r'[A-Za-z]|\\d', x)]\n",
    "\n",
    "    return filtered_list\n",
    "\n",
    "# Given list\n",
    "data = ['XRP:', 'MEXCBitrue', '179484.5', '22.2$', '(0.01)', 'XRP/USDT:', '4', '|', 'MEXC', '|', '|', ':', '2.1881',\n",
    "        '[2.1875-2.1883]', ':', '179484.5', '$,', '82.03K,', '7', '|', 'Bitrue', '|', '|', ':', '2.191', ':', '179722.3',\n",
    "        '$,', '82.03K,', '1', ':', '215.55$', '/', '0.34$', '(0.155', 'XRP)', ':', 'XRP', '1-3', '(10', '.', '1', ')',\n",
    "        ':', '00:02', ':', '22.2$', '(0.01)', ':', 'Binance', '|', 'Gate.io', '|', 'MEXC', '|', 'ByBit', '|', 'KuCoin',\n",
    "        '|', 'Bitget', '|', 'Huobi', '|', 'BingX', '|', 'OKX', '|', 'BitMart', '|', 'LBank', '|', 'CoinEx', '|', 'XT']\n",
    "\n",
    "# Clean and filter the list\n",
    "result = clean_list(data)\n",
    "print(result)"
   ],
   "id": "d3e58800f6ced4d4",
   "outputs": [
    {
     "name": "stdout",
     "output_type": "stream",
     "text": [
      "['XRP', 'MEXCBitrue', '179484.5', '22.2', '0.01', 'XRPUSDT', '4', 'MEXC', '2.1881', '179484.5', '82.03K', '7', 'Bitrue', '2.191', '179722.3', '82.03K', '1', '215.55', '0.34', '0.155', 'XRP', 'XRP', '1-3', '10', '1', '0002', '22.2', '0.01', 'Binance', 'Gate.io', 'MEXC', 'ByBit', 'KuCoin', 'Bitget', 'Huobi', 'BingX', 'OKX', 'BitMart', 'LBank', 'CoinEx', 'XT']\n"
     ]
    }
   ],
   "execution_count": 34
  },
  {
   "metadata": {},
   "cell_type": "code",
   "outputs": [],
   "execution_count": null,
   "source": [
    "['Binance', '2.887', '168.9', '58.54', '1', 'BingX', '2.92156', '2.922-2.907', '170.5', '58.33', '2', '0.42', '0.61', '0.21', 'PENDLE', 'BEP20', '1-3', '15', '.', '1', '0057', '1.2', '0.58']\n",
    "['LBank', '0.0275', '1851.6', '67.33K', '1', 'Gate.io', '0.0276833', '0.0277-0.02768', '1862.8', '67.29K', '3', '5.58', '1.26', '45.85', 'PIPPIN']\n"
   ],
   "id": "3f807b9d27d129d3"
  }
 ],
 "metadata": {
  "kernelspec": {
   "display_name": "Python 3",
   "language": "python",
   "name": "python3"
  },
  "language_info": {
   "codemirror_mode": {
    "name": "ipython",
    "version": 2
   },
   "file_extension": ".py",
   "mimetype": "text/x-python",
   "name": "python",
   "nbconvert_exporter": "python",
   "pygments_lexer": "ipython2",
   "version": "2.7.6"
  }
 },
 "nbformat": 4,
 "nbformat_minor": 5
}
